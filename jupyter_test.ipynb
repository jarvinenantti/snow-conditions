{
 "metadata": {
  "language_info": {
   "codemirror_mode": {
    "name": "ipython",
    "version": 3
   },
   "file_extension": ".py",
   "mimetype": "text/x-python",
   "name": "python",
   "nbconvert_exporter": "python",
   "pygments_lexer": "ipython3",
   "version": "3.9.5"
  },
  "orig_nbformat": 2,
  "kernelspec": {
   "name": "python3",
   "display_name": "Python 3.9.5 64-bit"
  },
  "interpreter": {
   "hash": "63fd5069d213b44bf678585dea6b12cceca9941eaf7f819626cde1f2670de90d"
  }
 },
 "nbformat": 4,
 "nbformat_minor": 2,
 "cells": [
  {
   "cell_type": "code",
   "execution_count": 22,
   "metadata": {},
   "outputs": [
    {
     "output_type": "stream",
     "name": "stdout",
     "text": [
      "['Enontekiö Kilpisjärvi Saana', 'Enontekiö Kilpisjärvi kyläkeskus', 'Enontekiö Näkkälä', 'Enontekiö lentoasema', 'Haapavesi Mustikkamäki', 'Hailuoto Keskikylä', 'Hailuoto Marjaniemi', 'Inari Angeli Lintupuoliselkä', 'Inari Ivalo lentoasema', 'Inari Kaamanen', 'Inari Kirakkajärvi', 'Inari Nellim', 'Inari Raja-Jooseppi', 'Inari Saariselkä Kaunispää', 'Inari Saariselkä matkailukeskus', 'Inari Seitalaassa', 'Inari Väylä', 'Kajaani Petäisenniska', 'Kajaani lentoasema', 'Kalajoki Ulkokalla', 'Kemi Ajos', 'Kemi I majakka', 'Kemi Kemi-Tornio lentoasema', 'Kemijärvi lentokenttä', 'Kittilä Kenttärova', 'Kittilä Lompolonvuoma', 'Kittilä Matorova', 'Kittilä Pokka', 'Kittilä kirkonkylä', 'Kittilä lentoasema', 'Kuusamo Juuma', 'Kuusamo Kiutaköngäs', 'Kuusamo Ruka Talvijärvi', 'Kuusamo Rukatunturi', 'Kuusamo Välikangas', 'Kuusamo lentoasema', 'Muonio Laukukero', 'Muonio Sammaltunturi', 'Muonio kirkonkylä', 'Oulu Oulunsalo Pellonpää', 'Oulu Vihreäsaari satama', 'Oulu lentoasema', 'Pelkosenniemi Pyhätunturi', 'Pello kirkonkylä', 'Pudasjärvi lentokenttä', 'Puolanka Paljakka', 'Raahe Lapaluoto satama', 'Raahe Nahkiainen', 'Ranua lentokenttä', 'Rovaniemi Apukka', 'Rovaniemi lentoasema', 'Rovaniemi lentoasema AWOS', 'Rovaniemi rautatieasema', 'Salla Naruska', 'Salla Värriötunturi', 'Salla kirkonkylä', 'Savukoski kirkonkylä', 'Siikajoki Ruukki', 'Sodankylä Lokka', 'Sodankylä Tähtelä', 'Sodankylä Vuotso', 'Sotkamo Kuolaniemi', 'Suomussalmi Pesiö', 'Taivalkoski kirkonkylä', 'Tervola Loue', 'Tornio Torppi', 'Utsjoki Kevo', 'Utsjoki Kevo Kevojärvi', 'Vaala Pelso', 'Ylitornio Meltosjärvi', 'Ylivieska lentokenttä']\n"
     ]
    }
   ],
   "source": [
    "# Fetch FMI open data using \"fmiopendata\"-library\n",
    "# https://github.com/pnuu/fmiopendata\n",
    "# pip install fmiopendata\n",
    "# numpy, requests, pandas\n",
    "\n",
    "import datetime as dt\n",
    "from fmiopendata.wfs import download_stored_query\n",
    "\n",
    "bbox = \"bbox=20.5,64,30,70\" # Lapland\n",
    "starttime = \"starttime=2021-01-01T00:00:00Z\"\n",
    "endtime = \"endtime=2021-01-06T00:00:00Z\"\n",
    "timestep = \"timestep=1440\" # daily\n",
    "timeseries = \"timeseries=True\"\n",
    "obs = download_stored_query(\"fmi::observations::weather::multipointcoverage\",\n",
    "                            args=[starttime,\n",
    "                                  endtime,\n",
    "                                  timestep,\n",
    "                                  timeseries,\n",
    "                                  bbox])\n",
    "print(sorted(obs.data.keys()))"
   ]
  },
  {
   "cell_type": "code",
   "execution_count": 23,
   "metadata": {},
   "outputs": [
    {
     "output_type": "stream",
     "name": "stdout",
     "text": [
      "3\ndegC\n"
     ]
    }
   ],
   "source": [
    "place = 'Inari Saariselkä Kaunispää'\n",
    "# The times are as a list of datetime objects\n",
    "times = obs.data[place]['times']\n",
    "# Other data fields have another extra level, one for values and one for the unit\n",
    "print(len(obs.data[place]['t2m']['values']))\n",
    "# -> number of data points\n",
    "print(obs.data[place]['t2m']['unit'])\n",
    "# -> 'degC'"
   ]
  },
  {
   "cell_type": "code",
   "execution_count": 24,
   "metadata": {},
   "outputs": [
    {
     "output_type": "stream",
     "name": "stdout",
     "text": [
      "n_man 1/8\np_sea hPa\nr_1h mm\nrh %\nri_10min mm/h\nsnow_aws cm\nt2m degC\ntd degC\nvis m\nwawa \nwd_10min deg\nwg_10min m/s\nws_10min m/s\n"
     ]
    }
   ],
   "source": [
    "keys = sorted(obs.data[place].keys())\n",
    "for k in keys:\n",
    "    if k != 'times':\n",
    "        print(k+' '+obs.data[place][k]['unit'])"
   ]
  },
  {
   "cell_type": "code",
   "execution_count": 26,
   "metadata": {},
   "outputs": [
    {
     "output_type": "stream",
     "name": "stdout",
     "text": [
      "['n_man', 'p_sea', 'r_1h', 'rh', 'ri_10min', 'snow_aws', 't2m', 'td', 'times', 'vis', 'wawa', 'wd_10min', 'wg_10min', 'ws_10min']\n[datetime.datetime(2021, 1, 1, 0, 0), datetime.datetime(2021, 1, 3, 12, 0), datetime.datetime(2021, 1, 6, 0, 0)]\n{'values': [27.0, 28.0, 27.0], 'unit': 'cm'}\n"
     ]
    }
   ],
   "source": [
    "place = 'Inari Saariselkä matkailukeskus'\n",
    "print(sorted(obs.data[place].keys()))\n",
    "# -> 'snow_aws'\n",
    "print(obs.data[place]['times'])\n",
    "print(obs.data[place]['snow_aws'])"
   ]
  },
  {
   "cell_type": "code",
   "execution_count": 1,
   "metadata": {},
   "outputs": [],
   "source": [
    "# Fetch FMI open data using \"fmiopendata\"-library\n",
    "# https://github.com/pnuu/fmiopendata\n",
    "# pip install fmiopendata\n",
    "# numpy, requests, pandas\n",
    "\n",
    "import datetime as dt\n",
    "from fmiopendata.wfs import download_stored_query\n",
    "import pandas as pd\n",
    "\n",
    "# Places: Saariselkä, Levi, Ylläs, Pallas (Ollos), Pyhä (Luosto), Ruka, Syöte, Vuokatti\n",
    "skiCenter = ['Saariselkä','Levi','Ylläs','Pallas(Ollos)','Pyhä(Luosto)','Ruka','Syöte','Vuokatti']\n",
    "places = ['Inari Saariselkä matkailukeskus','Kittilä kirkonkylä','Kittilä kirkonkylä','Kittilä Kenttärova','Kemijärvi lentokenttä','Kuusamo Kiutaköngäs','Taivalkoski kirkonkylä','Sotkamo Kuolaniemi']\n",
    "\n",
    "# Define search space\n",
    "bbox = \"bbox=20.5,64,30,70\" # ~Lapland\n",
    "\n",
    "# Define time period (max 7 days for 1 query)\n",
    "starttime = \"starttime=2021-01-01T00:00:00Z\"\n",
    "endtime = \"endtime=2021-01-07T00:00:00Z\"\n",
    "timestep = \"timestep=1440\" # daily (1440 minutes)\n",
    "\n",
    "# Timeseries\n",
    "timeseries = \"timeseries=True\"\n",
    "\n",
    "# Query type\n",
    "query = \"fmi::observations::weather::multipointcoverage\"\n",
    "\n",
    "# Execute query\n",
    "obs = download_stored_query(query,\n",
    "                            args=[starttime,\n",
    "                                  endtime,\n",
    "                                  timestep,\n",
    "                                  timeseries,\n",
    "                                  bbox])\n",
    "\n",
    "# Pick places of interest\n",
    "loc = []\n",
    "for place in places:\n",
    "    if len(obs.data[place]['times']) > 0:\n",
    "        loc.append(obs.data[place])\n",
    "\n",
    "# Check that data was successfully fetched\n",
    "assert len(loc) == len(places)\n"
   ]
  },
  {
   "cell_type": "code",
   "execution_count": 2,
   "metadata": {},
   "outputs": [
    {
     "output_type": "stream",
     "name": "stdout",
     "text": [
      "Inari Saariselkä matkailukeskus\n{'values': [27.0, 28.0, 28.0, 28.0, 28.0, 27.0, 28.0], 'unit': 'cm'}\nKittilä kirkonkylä\n{'values': [37.0, 38.0, 39.0, 38.0, 38.0, 37.0, 38.0], 'unit': 'cm'}\nKittilä kirkonkylä\n{'values': [37.0, 38.0, 39.0, 38.0, 38.0, 37.0, 38.0], 'unit': 'cm'}\nKittilä Kenttärova\n{'values': [45.0, 46.0, 46.0, 45.0, 44.0, 43.0, 43.0], 'unit': 'cm'}\nKemijärvi lentokenttä\n{'values': [28.0, 37.0, 36.0, 35.0, 34.0, 33.0, 33.0], 'unit': 'cm'}\nKuusamo Kiutaköngäs\n{'values': [28.0, 38.0, 37.0, 36.0, 35.0, 35.0, 34.0], 'unit': 'cm'}\nTaivalkoski kirkonkylä\n{'values': [18.0, 24.0, 22.0, 21.0, 21.0, 21.0, 21.0], 'unit': 'cm'}\nSotkamo Kuolaniemi\n{'values': [16.0, 20.0, 21.0, 21.0, 21.0, 20.0, 20.0], 'unit': 'cm'}\n<class 'dict'>\n<class 'list'>\n"
     ]
    },
    {
     "output_type": "execute_result",
     "data": {
      "text/plain": [
       "{'times': [datetime.datetime(2021, 1, 1, 0, 0),\n",
       "  datetime.datetime(2021, 1, 2, 0, 0),\n",
       "  datetime.datetime(2021, 1, 3, 0, 0),\n",
       "  datetime.datetime(2021, 1, 4, 0, 0),\n",
       "  datetime.datetime(2021, 1, 5, 0, 0),\n",
       "  datetime.datetime(2021, 1, 6, 0, 0),\n",
       "  datetime.datetime(2021, 1, 7, 0, 0)],\n",
       " 't2m': {'values': [-4.6, -6.5, -11.0, -14.4, -14.7, -7.2, -10.2],\n",
       "  'unit': 'degC'},\n",
       " 'ws_10min': {'values': [nan, nan, nan, nan, nan, nan, nan], 'unit': 'm/s'},\n",
       " 'wg_10min': {'values': [nan, nan, nan, nan, nan, nan, nan], 'unit': 'm/s'},\n",
       " 'wd_10min': {'values': [nan, nan, nan, nan, nan, nan, nan], 'unit': 'deg'},\n",
       " 'rh': {'values': [96.0, 93.0, 92.0, 88.0, 87.0, 93.0, 91.0], 'unit': '%'},\n",
       " 'td': {'values': [-5.2, -7.5, -12.1, -16.0, -16.3, -8.1, -11.4],\n",
       "  'unit': 'degC'},\n",
       " 'r_1h': {'values': [0.0, 0.1, 0.0, 0.0, 0.0, 0.0, 0.0], 'unit': 'mm'},\n",
       " 'ri_10min': {'values': [0.0, 0.2, 0.0, 0.0, 0.0, 0.0, 0.0], 'unit': 'mm/h'},\n",
       " 'snow_aws': {'values': [27.0, 28.0, 28.0, 28.0, 28.0, 27.0, 28.0],\n",
       "  'unit': 'cm'},\n",
       " 'p_sea': {'values': [nan, nan, nan, nan, nan, nan, nan], 'unit': 'hPa'},\n",
       " 'vis': {'values': [nan, nan, nan, nan, nan, nan, nan], 'unit': 'm'},\n",
       " 'n_man': {'values': [nan, nan, nan, nan, nan, nan, nan], 'unit': '1/8'},\n",
       " 'wawa': {'values': [nan, nan, nan, nan, nan, nan, nan], 'unit': ''}}"
      ]
     },
     "metadata": {},
     "execution_count": 2
    }
   ],
   "source": [
    "for place in places:\n",
    "    print(place)\n",
    "    print(obs.data[place]['snow_aws'])\n",
    "print(type(loc[0]))\n",
    "print(type(obs.data[place]['snow_aws']['values']))\n",
    "loc[0]"
   ]
  },
  {
   "cell_type": "code",
   "execution_count": 49,
   "metadata": {},
   "outputs": [
    {
     "output_type": "execute_result",
     "data": {
      "text/plain": [
       "            Inari Saariselkä matkailukeskus unit\n",
       "2021-01-01                             27.0   cm\n",
       "2021-01-02                             28.0   cm\n",
       "2021-01-03                             28.0   cm\n",
       "2021-01-04                             28.0   cm\n",
       "2021-01-05                             28.0   cm\n",
       "2021-01-06                             27.0   cm"
      ],
      "text/html": "<div>\n<style scoped>\n    .dataframe tbody tr th:only-of-type {\n        vertical-align: middle;\n    }\n\n    .dataframe tbody tr th {\n        vertical-align: top;\n    }\n\n    .dataframe thead th {\n        text-align: right;\n    }\n</style>\n<table border=\"1\" class=\"dataframe\">\n  <thead>\n    <tr style=\"text-align: right;\">\n      <th></th>\n      <th>Inari Saariselkä matkailukeskus</th>\n      <th>unit</th>\n    </tr>\n  </thead>\n  <tbody>\n    <tr>\n      <th>2021-01-01</th>\n      <td>27.0</td>\n      <td>cm</td>\n    </tr>\n    <tr>\n      <th>2021-01-02</th>\n      <td>28.0</td>\n      <td>cm</td>\n    </tr>\n    <tr>\n      <th>2021-01-03</th>\n      <td>28.0</td>\n      <td>cm</td>\n    </tr>\n    <tr>\n      <th>2021-01-04</th>\n      <td>28.0</td>\n      <td>cm</td>\n    </tr>\n    <tr>\n      <th>2021-01-05</th>\n      <td>28.0</td>\n      <td>cm</td>\n    </tr>\n    <tr>\n      <th>2021-01-06</th>\n      <td>27.0</td>\n      <td>cm</td>\n    </tr>\n  </tbody>\n</table>\n</div>"
     },
     "metadata": {},
     "execution_count": 49
    }
   ],
   "source": [
    "d = obs.data[place]['snow_aws']\n",
    "df = pd.DataFrame(data = d)\n",
    "df = df.rename(columns={'values': places[0]})\n",
    "df.index = pd.to_datetime(obs.data[place]['times'])\n",
    "df"
   ]
  },
  {
   "cell_type": "code",
   "execution_count": 3,
   "metadata": {},
   "outputs": [
    {
     "output_type": "stream",
     "name": "stdout",
     "text": [
      "            Inari Saariselkä matkailukeskus unit  Kittilä kirkonkylä  \\\n2021-01-01                             27.0   cm                37.0   \n2021-01-01                              NaN   cm                37.0   \n2021-01-02                             28.0   cm                38.0   \n2021-01-02                              NaN   cm                38.0   \n2021-01-03                             28.0   cm                39.0   \n2021-01-03                              NaN   cm                39.0   \n2021-01-04                             28.0   cm                38.0   \n2021-01-04                              NaN   cm                38.0   \n2021-01-05                             28.0   cm                38.0   \n2021-01-05                              NaN   cm                38.0   \n2021-01-06                             27.0   cm                37.0   \n2021-01-06                              NaN   cm                37.0   \n2021-01-07                             28.0   cm                38.0   \n2021-01-07                              NaN   cm                38.0   \n\n            Kittilä Kenttärova  Kemijärvi lentokenttä  Kuusamo Kiutaköngäs  \\\n2021-01-01                45.0                   28.0                 28.0   \n2021-01-01                45.0                   28.0                 28.0   \n2021-01-02                46.0                   37.0                 38.0   \n2021-01-02                46.0                   37.0                 38.0   \n2021-01-03                46.0                   36.0                 37.0   \n2021-01-03                46.0                   36.0                 37.0   \n2021-01-04                45.0                   35.0                 36.0   \n2021-01-04                45.0                   35.0                 36.0   \n2021-01-05                44.0                   34.0                 35.0   \n2021-01-05                44.0                   34.0                 35.0   \n2021-01-06                43.0                   33.0                 35.0   \n2021-01-06                43.0                   33.0                 35.0   \n2021-01-07                43.0                   33.0                 34.0   \n2021-01-07                43.0                   33.0                 34.0   \n\n            Taivalkoski kirkonkylä  Sotkamo Kuolaniemi  \n2021-01-01                    18.0                16.0  \n2021-01-01                    18.0                16.0  \n2021-01-02                    24.0                20.0  \n2021-01-02                    24.0                20.0  \n2021-01-03                    22.0                21.0  \n2021-01-03                    22.0                21.0  \n2021-01-04                    21.0                21.0  \n2021-01-04                    21.0                21.0  \n2021-01-05                    21.0                21.0  \n2021-01-05                    21.0                21.0  \n2021-01-06                    21.0                20.0  \n2021-01-06                    21.0                20.0  \n2021-01-07                    21.0                20.0  \n2021-01-07                    21.0                20.0  \n"
     ]
    }
   ],
   "source": [
    "# df = pd.DataFrame(columns = places)\n",
    "df = pd.DataFrame()\n",
    "for place in places:\n",
    "    d = obs.data[place]['snow_aws']\n",
    "    df2 = pd.DataFrame(data = d)\n",
    "    df2 = df2.rename(columns={'values': place})\n",
    "    df2.drop(['unit'], axis=1)\n",
    "    df2.index = pd.to_datetime(obs.data[place]['times'])\n",
    "    if df.empty:\n",
    "        df = df.append(df2)\n",
    "    elif place not in df:\n",
    "        newPlace = df2[place]\n",
    "        df = df.join(newPlace)\n",
    "    else:\n",
    "        df = df.append(df2)\n",
    "print(df)\n",
    "cols = list(df.columns.values)"
   ]
  },
  {
   "cell_type": "code",
   "execution_count": 32,
   "metadata": {},
   "outputs": [
    {
     "output_type": "stream",
     "name": "stdout",
     "text": [
      "{'values': [27.0, 28.0, 27.0], 'unit': 'cm'}\n<class 'dict'>\n[27.0, 28.0, 27.0]\n<class 'list'>\n"
     ]
    }
   ],
   "source": [
    "print(loc[0][\"snow_aws\"])\n",
    "print(type(loc[0][\"snow_aws\"]))\n",
    "print(loc[0][\"snow_aws\"][\"values\"])\n",
    "print(type(loc[0][\"snow_aws\"][\"values\"]))"
   ]
  },
  {
   "cell_type": "code",
   "execution_count": 33,
   "metadata": {},
   "outputs": [
    {
     "output_type": "stream",
     "name": "stdout",
     "text": [
      "Empty DataFrame\nColumns: [Saariselkä, Levi, Ylläs, Pallas(Ollos), Pyhä(Luosto), Ruka, Syöte, Vuokatti]\nIndex: []\n"
     ]
    }
   ],
   "source": [
    "skiCenter = ['Saariselkä','Levi','Ylläs','Pallas(Ollos)','Pyhä(Luosto)','Ruka','Syöte','Vuokatti']\n",
    "df = pd.DataFrame(columns = skiCenter)\n",
    "print(df)\n"
   ]
  },
  {
   "cell_type": "code",
   "execution_count": 11,
   "metadata": {},
   "outputs": [],
   "source": [
    "from pathlib import Path\n",
    "from datetime import datetime\n",
    "import numpy as np\n",
    "import pandas as pd\n",
    "\n",
    "df = pd.DataFrame()\n",
    "\n",
    "pD = Path('./'+\"2020-2021\"+'/data')\n",
    "\n",
    "name = \"snow_aws_2020-09-01T00:00:00_2021-06-30T00:00:00\"\n",
    "name = \"2020-2021/data/snow_aws_2020-09-01\"\n",
    "\n",
    "filename = \"./\"+name+\".pkl\"\n",
    "\n",
    "df.to_pickle(filename)"
   ]
  },
  {
   "cell_type": "code",
   "execution_count": null,
   "metadata": {},
   "outputs": [],
   "source": []
  }
 ]
}